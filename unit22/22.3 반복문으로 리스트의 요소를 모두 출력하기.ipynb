{
 "cells": [
  {
   "cell_type": "markdown",
   "metadata": {},
   "source": [
    "# 반복문으로 리스트의 요소를 모두 출력하기\n",
    "[강좌 바로가기](https://dojang.io/mod/page/view.php?id=2283)"
   ]
  },
  {
   "cell_type": "markdown",
   "metadata": {},
   "source": [
    "#### for로 리스트 a의 모든 요소를 출력합니다."
   ]
  },
  {
   "cell_type": "code",
   "execution_count": 2,
   "metadata": {},
   "outputs": [
    {
     "name": "stdout",
     "output_type": "stream",
     "text": [
      "1\n",
      "3\n",
      "5\n",
      "7\n",
      "9\n",
      "11\n",
      "13\n",
      "15\n",
      "17\n",
      "19\n"
     ]
    }
   ],
   "source": [
    "a = list(range(1, 20, 2))\n",
    "for i in a:\n",
    "    print(i)"
   ]
  },
  {
   "cell_type": "markdown",
   "metadata": {},
   "source": [
    "#### 인덱스와 요소를 함께 출력하기"
   ]
  },
  {
   "cell_type": "code",
   "execution_count": 8,
   "metadata": {},
   "outputs": [
    {
     "name": "stdout",
     "output_type": "stream",
     "text": [
      "0 38\n",
      "1 21\n",
      "2 33\n",
      "3 22\n",
      "4 11\n"
     ]
    }
   ],
   "source": [
    "a = [38, 21, 33, 22, 11]\n",
    "for index, value in enumerate(a):\n",
    "    print(index, value)"
   ]
  },
  {
   "cell_type": "markdown",
   "metadata": {},
   "source": [
    "#### 인덱스를 1부터 출력하고 싶으며 enumerate에 start를 지정해주면 됩니다."
   ]
  },
  {
   "cell_type": "code",
   "execution_count": 9,
   "metadata": {},
   "outputs": [
    {
     "name": "stdout",
     "output_type": "stream",
     "text": [
      "1 38\n",
      "2 21\n",
      "3 33\n",
      "4 22\n",
      "5 11\n"
     ]
    }
   ],
   "source": [
    "a = [38, 21, 33, 22, 11]\n",
    "for index, value in enumerate(a, start=1):\n",
    "    print(index, value)"
   ]
  },
  {
   "cell_type": "markdown",
   "metadata": {},
   "source": [
    "#### while 반복문으로 요소 출력하기"
   ]
  },
  {
   "cell_type": "code",
   "execution_count": 7,
   "metadata": {},
   "outputs": [
    {
     "name": "stdout",
     "output_type": "stream",
     "text": [
      "38\n",
      "21\n",
      "33\n",
      "22\n",
      "11\n"
     ]
    }
   ],
   "source": [
    "a = [38, 21, 33, 22, 11]\n",
    "i = 0\n",
    "while i < len(a):\n",
    "    print(a[i])\n",
    "    i += 1"
   ]
  }
 ],
 "metadata": {
  "kernelspec": {
   "display_name": "Python 3",
   "language": "python",
   "name": "python3"
  },
  "language_info": {
   "codemirror_mode": {
    "name": "ipython",
    "version": 3
   },
   "file_extension": ".py",
   "mimetype": "text/x-python",
   "name": "python",
   "nbconvert_exporter": "python",
   "pygments_lexer": "ipython3",
   "version": "3.7.4"
  }
 },
 "nbformat": 4,
 "nbformat_minor": 2
}
