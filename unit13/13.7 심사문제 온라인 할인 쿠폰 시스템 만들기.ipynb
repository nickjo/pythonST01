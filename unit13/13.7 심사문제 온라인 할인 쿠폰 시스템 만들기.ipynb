{
 "cells": [
  {
   "cell_type": "markdown",
   "metadata": {},
   "source": [
    "# 온라인 할인 쿠폰 시스템 만들기\n",
    "[강좌 바로가기](https://dojang.io/mod/quiz/attempt.php?attempt=742587&cmid=2226)"
   ]
  },
  {
   "cell_type": "markdown",
   "metadata": {},
   "source": [
    "#### 표준 입력으로 가격(정수)과 쿠폰 이름이 각 줄에 입력됩니다. Cash3000 쿠폰은 3,000원, Cash5000 쿠폰은 5,000원을 할인합니다. 쿠폰에 따라 할인된 가격을 출력하는 프로그램을 만드세요(input에서 안내 문자열은 출력하지 않아야 합니다).\n",
    "#### 입력\n",
    "```python \n",
    "27000\n",
    "Cash3000\n",
    "```\n",
    "#### 결과\n",
    "```python\n",
    "24000\n",
    "```"
   ]
  },
  {
   "cell_type": "code",
   "execution_count": 5,
   "metadata": {},
   "outputs": [
    {
     "name": "stdout",
     "output_type": "stream",
     "text": [
      "72000\n",
      "Cash5000\n",
      "67000\n"
     ]
    }
   ],
   "source": [
    "price = input().split()\n",
    "coupon = input().split() \n",
    "\n",
    "price_int = int(price[0])\n",
    "coupon_str = coupon[0]\n",
    "result = 0\n",
    "\n",
    "if coupon_str == 'Cash3000':\n",
    "    result = price_int - 3000\n",
    "else:    \n",
    "    result = price_int - 5000\n",
    "print(result)    "
   ]
  }
 ],
 "metadata": {
  "kernelspec": {
   "display_name": "Python 3",
   "language": "python",
   "name": "python3"
  },
  "language_info": {
   "codemirror_mode": {
    "name": "ipython",
    "version": 3
   },
   "file_extension": ".py",
   "mimetype": "text/x-python",
   "name": "python",
   "nbconvert_exporter": "python",
   "pygments_lexer": "ipython3",
   "version": "3.7.4"
  }
 },
 "nbformat": 4,
 "nbformat_minor": 2
}
