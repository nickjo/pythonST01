{
 "cells": [
  {
   "cell_type": "markdown",
   "metadata": {},
   "source": [
    "# 문자열 사용하기\n",
    "[강좌 바로가기](https://dojang.io/mod/page/view.php?id=2196)"
   ]
  },
  {
   "cell_type": "code",
   "execution_count": 5,
   "metadata": {},
   "outputs": [
    {
     "name": "stdout",
     "output_type": "stream",
     "text": [
      "Hello, world!\n",
      "안녕하세요!\n",
      "Hello, world!!\n",
      "Hello, world!!!\n"
     ]
    }
   ],
   "source": [
    "hello = 'Hello, world!'\n",
    "print(hello)\n",
    "hello1 = '안녕하세요!'\n",
    "print(hello1)\n",
    "hello2 = '''Hello, world!!'''\n",
    "print(hello2)\n",
    "hello3 = \"\"\"Hello, world!!!\"\"\"\n",
    "print(hello3)"
   ]
  },
  {
   "cell_type": "markdown",
   "metadata": {},
   "source": [
    "#### 여러 줄로 된 문자열 사용하기"
   ]
  },
  {
   "cell_type": "code",
   "execution_count": 8,
   "metadata": {},
   "outputs": [
    {
     "name": "stdout",
     "output_type": "stream",
     "text": [
      "\n",
      "작은따옴표\n",
      "Hello\n",
      "Hello, world!!\n",
      "Python programing\n",
      "\n",
      "\n",
      "큰따옴표\n",
      "Hello\n",
      "Hello, world!!\n",
      "Python programing\n",
      "\n"
     ]
    }
   ],
   "source": [
    "hello = '''\n",
    "작은따옴표\n",
    "Hello\n",
    "Hello, world!!\n",
    "Python programing\n",
    "'''\n",
    "print(hello)\n",
    "\n",
    "hello1 = \"\"\"\n",
    "큰따옴표\n",
    "Hello\n",
    "Hello, world!!\n",
    "Python programing\n",
    "\"\"\"\n",
    "print(hello1)"
   ]
  },
  {
   "cell_type": "code",
   "execution_count": 9,
   "metadata": {},
   "outputs": [
    {
     "name": "stdout",
     "output_type": "stream",
     "text": [
      "\n",
      "'Python' is a \"programming language\"\n",
      "that lets you work quickly\n",
      "and\n",
      "integrate systems more effectively.\n",
      "\n"
     ]
    }
   ],
   "source": [
    "s = \"\"\"\n",
    "'Python' is a \"programming language\"\n",
    "that lets you work quickly\n",
    "and\n",
    "integrate systems more effectively.\n",
    "\"\"\"\n",
    "print(s)"
   ]
  }
 ],
 "metadata": {
  "kernelspec": {
   "display_name": "Python 3",
   "language": "python",
   "name": "python3"
  },
  "language_info": {
   "codemirror_mode": {
    "name": "ipython",
    "version": 3
   },
   "file_extension": ".py",
   "mimetype": "text/x-python",
   "name": "python",
   "nbconvert_exporter": "python",
   "pygments_lexer": "ipython3",
   "version": "3.7.4"
  }
 },
 "nbformat": 4,
 "nbformat_minor": 2
}
