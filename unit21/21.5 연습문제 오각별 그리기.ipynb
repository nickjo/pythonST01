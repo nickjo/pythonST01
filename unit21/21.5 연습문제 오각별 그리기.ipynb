{
 "cells": [
  {
   "cell_type": "markdown",
   "metadata": {},
   "source": [
    "# 오각별 그리기\n",
    "[강좌 바로가기](https://dojang.io/mod/page/view.php?id=2277)"
   ]
  },
  {
   "cell_type": "markdown",
   "metadata": {},
   "source": [
    "#### 다음 소스 코드를 완성하여 오각별이 그려지게 만드세요.\n",
    "- 각 변의 길이는 100\n",
    "- 별의 꼭지점은 72도를 두 번 회전해서 144도 회전\n",
    "- 별의 다음 꼭지점을 그릴 때는 72도 회전"
   ]
  },
  {
   "cell_type": "code",
   "execution_count": 3,
   "metadata": {},
   "outputs": [],
   "source": [
    "import turtle as t\n",
    " \n",
    "n = 5\n",
    "t.shape('turtle')\n",
    "t.speed(5)\n",
    "for i in range(n):\n",
    "    t.forward(100)\n",
    "    t.right((360 / n) * 2)\n",
    "    t.forward(100)\n",
    "    t.left(360 / n)       \n",
    "t.done()    "
   ]
  }
 ],
 "metadata": {
  "kernelspec": {
   "display_name": "Python 3",
   "language": "python",
   "name": "python3"
  },
  "language_info": {
   "codemirror_mode": {
    "name": "ipython",
    "version": 3
   },
   "file_extension": ".py",
   "mimetype": "text/x-python",
   "name": "python",
   "nbconvert_exporter": "python",
   "pygments_lexer": "ipython3",
   "version": "3.7.4"
  }
 },
 "nbformat": 4,
 "nbformat_minor": 2
}
