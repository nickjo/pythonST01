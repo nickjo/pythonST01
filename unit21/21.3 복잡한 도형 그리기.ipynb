{
 "cells": [
  {
   "cell_type": "markdown",
   "metadata": {},
   "source": [
    "# 복잡한 도형 그리기\n",
    "[강좌 바로가기](https://dojang.io/mod/page/view.php?id=2275)"
   ]
  },
  {
   "cell_type": "code",
   "execution_count": 5,
   "metadata": {},
   "outputs": [],
   "source": [
    "import turtle as t\n",
    "t.shape('turtle')\n",
    "t.circle(120)\n",
    "t.done()"
   ]
  },
  {
   "cell_type": "markdown",
   "metadata": {},
   "source": [
    "#### 원을 반복해서 그리기\n",
    "#### speed는 거북이의 속도를 서정합니다.\n",
    "```python\n",
    "'fastest': 0\n",
    "'fast': 10\n",
    "'normal': 6\n",
    "'slow': 3\n",
    "'slowest': 1\n",
    "```"
   ]
  },
  {
   "cell_type": "code",
   "execution_count": 12,
   "metadata": {},
   "outputs": [],
   "source": [
    "import turtle as t\n",
    "\n",
    "n = 60 \n",
    "t.shape('turtle')\n",
    "t.speed('fastest') # 거북이 속도를 가장 빠르게 설정\n",
    "for i in range(n):\n",
    "    t.circle(120)\n",
    "    t.right(360 / n) # 오른쪽으로 6도 회전\n",
    "t.done()    "
   ]
  },
  {
   "cell_type": "markdown",
   "metadata": {},
   "source": [
    "#### 선으로 복잡한 무늬 그리기"
   ]
  },
  {
   "cell_type": "code",
   "execution_count": 34,
   "metadata": {},
   "outputs": [],
   "source": [
    "import turtle as t\n",
    "\n",
    "t.shape('turtle')\n",
    "t.speed(0)\n",
    "for i in range(300):\n",
    "    t.forward(i) # i만큼 앞으로 이동. 반복할 때마다 선이 길어짐\n",
    "    t.right(91) # 오른쪽으로 91도 회전\n",
    "t.done()"
   ]
  },
  {
   "cell_type": "markdown",
   "metadata": {},
   "source": [
    "#### 터틀모양 설정하기\n",
    "- 터틀의 shape에는 'arrow', 'turtle', 'circle', 'square', 'triangle', 'classic' 등을 지정하여 여러 가지 터틀 모양을 사용할 수 있습니다.\n",
    "- t.shape()와 같이 shape를 그대로 호출하면 현재 모양을 알아낼 수 있습니다.\n",
    "```python\n",
    "import turtle as t\n",
    "t.shape('arrow')    # 화살표 모양 사용\n",
    "t.shape()           # 현재 모양 알아내기\n",
    "```"
   ]
  }
 ],
 "metadata": {
  "kernelspec": {
   "display_name": "Python 3",
   "language": "python",
   "name": "python3"
  },
  "language_info": {
   "codemirror_mode": {
    "name": "ipython",
    "version": 3
   },
   "file_extension": ".py",
   "mimetype": "text/x-python",
   "name": "python",
   "nbconvert_exporter": "python",
   "pygments_lexer": "ipython3",
   "version": "3.7.4"
  }
 },
 "nbformat": 4,
 "nbformat_minor": 2
}
