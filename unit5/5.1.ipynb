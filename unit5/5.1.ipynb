{
 "cells": [
  {
   "cell_type": "markdown",
   "metadata": {},
   "source": [
    "# 5.1 정수 계산하기\n",
    "[강좌 바로가기](https://dojang.io/mod/page/view.php?id=2170)"
   ]
  },
  {
   "cell_type": "code",
   "execution_count": 12,
   "metadata": {},
   "outputs": [
    {
     "name": "stdout",
     "output_type": "stream",
     "text": [
      "2\n",
      "-2\n",
      "4\n",
      "2.0\n",
      "2\n",
      "1\n",
      "1024\n"
     ]
    }
   ],
   "source": [
    "print(1+1)\n",
    "print(3-5)\n",
    "print(2*2)\n",
    "print(4/2)\n",
    "print(4//2) # 나눗셈 후 소스점 이하를 버리는 // 연산자\n",
    "print(5%2) # 나머지 연산\n",
    "print(2**10) # 거듭제곱"
   ]
  },
  {
   "cell_type": "markdown",
   "metadata": {},
   "source": [
    "#### 값을 정수로 만들기"
   ]
  },
  {
   "cell_type": "code",
   "execution_count": 20,
   "metadata": {},
   "outputs": [
    {
     "name": "stdout",
     "output_type": "stream",
     "text": [
      "3\n",
      "2\n",
      "10\n",
      "-8\n"
     ]
    }
   ],
   "source": [
    "print(int(3.3))\n",
    "print(int(5/2))\n",
    "print(int('10'))\n",
    "# print(int('10.3')) # error, 문자형을 정수형을 변경하기 위해서는 실수를 쓰면 안됨\n",
    "print(int(-8.5))"
   ]
  },
  {
   "cell_type": "markdown",
   "metadata": {},
   "source": [
    "#### 객체의 자료형 알아내기"
   ]
  },
  {
   "cell_type": "code",
   "execution_count": 21,
   "metadata": {},
   "outputs": [
    {
     "data": {
      "text/plain": [
       "int"
      ]
     },
     "execution_count": 21,
     "metadata": {},
     "output_type": "execute_result"
    }
   ],
   "source": [
    "type(10)"
   ]
  },
  {
   "cell_type": "markdown",
   "metadata": {},
   "source": [
    "#### 몫과 나머지를 함께 구하기"
   ]
  },
  {
   "cell_type": "code",
   "execution_count": 23,
   "metadata": {},
   "outputs": [
    {
     "data": {
      "text/plain": [
       "(2, 1)"
      ]
     },
     "execution_count": 23,
     "metadata": {},
     "output_type": "execute_result"
    }
   ],
   "source": [
    "divmod(5,2)\n",
    "# 위의 연산으로 나오는 (2, 1)은 튜플임. 파이썬에서 값을 괄호로 묶은 형태를 뜻함"
   ]
  },
  {
   "cell_type": "code",
   "execution_count": 24,
   "metadata": {},
   "outputs": [
    {
     "name": "stdout",
     "output_type": "stream",
     "text": [
      "2 1\n"
     ]
    }
   ],
   "source": [
    "quotient, remainder = divmod(5, 2)\n",
    "print(quotient, remainder)"
   ]
  },
  {
   "cell_type": "markdown",
   "metadata": {},
   "source": [
    "#### 2진수, 8진수, 16진수\n",
    "- 2진수 : 숫자 앞에 0b를 붙이며 0과 1을 사용\n",
    "- 8진수 : 숫자 앞에 0o(숫자 0과 소문자 o)를 붙이며 0부터 7까지 사용\n",
    "- 16진수: 숫자 앞에 0x 또는 0X를 붙이며 0부터 9, A부터 F까지 사용(소문자 a부터 f도 가능)"
   ]
  },
  {
   "cell_type": "code",
   "execution_count": 30,
   "metadata": {},
   "outputs": [
    {
     "name": "stdout",
     "output_type": "stream",
     "text": [
      "15\n",
      "9\n",
      "15\n"
     ]
    }
   ],
   "source": [
    "print(0b1111) # 2진수\n",
    "print(0o11) # 8진수\n",
    "print(0xf) # 16진수"
   ]
  }
 ],
 "metadata": {
  "kernelspec": {
   "display_name": "Python 3",
   "language": "python",
   "name": "python3"
  },
  "language_info": {
   "codemirror_mode": {
    "name": "ipython",
    "version": 3
   },
   "file_extension": ".py",
   "mimetype": "text/x-python",
   "name": "python",
   "nbconvert_exporter": "python",
   "pygments_lexer": "ipython3",
   "version": "3.7.4"
  }
 },
 "nbformat": 4,
 "nbformat_minor": 2
}
