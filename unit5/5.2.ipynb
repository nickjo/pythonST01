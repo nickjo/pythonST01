{
 "cells": [
  {
   "cell_type": "markdown",
   "metadata": {},
   "source": [
    "# 5.2 실수 계산하기\n",
    "[강좌 바로가기](https://dojang.io/mod/page/view.php?id=2171)"
   ]
  },
  {
   "cell_type": "code",
   "execution_count": 3,
   "metadata": {},
   "outputs": [
    {
     "name": "stdout",
     "output_type": "stream",
     "text": [
      "5.4\n",
      "-3.2\n",
      "41.29626\n",
      "0.4462246209746821\n"
     ]
    }
   ],
   "source": [
    "print(1.1+4.3)\n",
    "print(3.2-6.4)\n",
    "print(7.89*5.234)\n",
    "print(4.2/9.4123)"
   ]
  },
  {
   "cell_type": "markdown",
   "metadata": {},
   "source": [
    "#### 값을 실수로 만들기"
   ]
  },
  {
   "cell_type": "code",
   "execution_count": 6,
   "metadata": {},
   "outputs": [
    {
     "name": "stdout",
     "output_type": "stream",
     "text": [
      "4.0\n",
      "14.32\n",
      "1734.71\n"
     ]
    }
   ],
   "source": [
    "print(float(3+1))\n",
    "print(float('14.32'))\n",
    "print(float(4.1*423.1))"
   ]
  },
  {
   "cell_type": "markdown",
   "metadata": {},
   "source": [
    "#### 복소수\n",
    "- 파이썬에서는 실수부와 허수부로 이루어진 복소수(complex number)도 사용할 수 있음\n",
    "- 이때 허수부는 숫자 뒤에 j를 붙임(수학에서는 허수를 i로 표현하지만 공학에서는 j를 사용)"
   ]
  },
  {
   "cell_type": "code",
   "execution_count": 10,
   "metadata": {},
   "outputs": [
    {
     "name": "stdout",
     "output_type": "stream",
     "text": [
      "(1.2+4.5j)\n"
     ]
    },
    {
     "data": {
      "text/plain": [
       "(3.2+45.12j)"
      ]
     },
     "execution_count": 10,
     "metadata": {},
     "output_type": "execute_result"
    }
   ],
   "source": [
    "print(1.2+4.5j)\n",
    "complex(3.2+45.12j) # 두 실수를 복소수로 만들 때는 complex를 사용하면 됨"
   ]
  }
 ],
 "metadata": {
  "kernelspec": {
   "display_name": "Python 3",
   "language": "python",
   "name": "python3"
  },
  "language_info": {
   "codemirror_mode": {
    "name": "ipython",
    "version": 3
   },
   "file_extension": ".py",
   "mimetype": "text/x-python",
   "name": "python",
   "nbconvert_exporter": "python",
   "pygments_lexer": "ipython3",
   "version": "3.7.4"
  }
 },
 "nbformat": 4,
 "nbformat_minor": 2
}
